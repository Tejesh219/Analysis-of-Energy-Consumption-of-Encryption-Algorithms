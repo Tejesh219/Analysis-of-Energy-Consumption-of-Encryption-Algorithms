{
 "cells": [
  {
   "cell_type": "code",
   "execution_count": 2,
   "id": "bede14c9",
   "metadata": {},
   "outputs": [
    {
     "name": "stdout",
     "output_type": "stream",
     "text": [
      "File 'Assignment-1.txt' encrypted and saved as 'encrypted_file_3des.des'.\n",
      "File 'encrypted_file_3des.des' encrypted and saved as 'encrypted_file_3des.des'.\n",
      "File 'encrypted_file_3des.des' encrypted and saved as 'encrypted_file_3des.des'.\n",
      "File 'encrypted_file_3des.des' encrypted and saved as 'encrypted_file_3des.des'.\n",
      "File 'encrypted_file_3des.des' encrypted and saved as 'encrypted_file_3des.des'.\n",
      "File 'encrypted_file_3des.des' encrypted and saved as 'encrypted_file_3des.des'.\n",
      "File 'encrypted_file_3des.des' encrypted and saved as 'encrypted_file_3des.des'.\n",
      "File 'encrypted_file_3des.des' encrypted and saved as 'encrypted_file_3des.des'.\n",
      "File 'encrypted_file_3des.des' encrypted and saved as 'encrypted_file_3des.des'.\n",
      "File 'encrypted_file_3des.des' encrypted and saved as 'encrypted_file_3des.des'.\n",
      "File 'encrypted_file_3des.des' decrypted and saved as 'decrypted_file_3des.txt'.\n",
      "File 'decrypted_file_3des.txt' decrypted and saved as 'decrypted_file_3des.txt'.\n",
      "File 'decrypted_file_3des.txt' decrypted and saved as 'decrypted_file_3des.txt'.\n",
      "File 'decrypted_file_3des.txt' decrypted and saved as 'decrypted_file_3des.txt'.\n",
      "File 'decrypted_file_3des.txt' decrypted and saved as 'decrypted_file_3des.txt'.\n",
      "File 'decrypted_file_3des.txt' decrypted and saved as 'decrypted_file_3des.txt'.\n",
      "File 'decrypted_file_3des.txt' decrypted and saved as 'decrypted_file_3des.txt'.\n",
      "File 'decrypted_file_3des.txt' decrypted and saved as 'decrypted_file_3des.txt'.\n",
      "File 'decrypted_file_3des.txt' decrypted and saved as 'decrypted_file_3des.txt'.\n",
      "File 'decrypted_file_3des.txt' decrypted and saved as 'decrypted_file_3des.txt'.\n"
     ]
    }
   ],
   "source": [
    "from pyDes import triple_des, PAD_PKCS5\n",
    "import secrets\n",
    "import os\n",
    "import shutil\n",
    "def encrypt_file(input_file, output_file, key):\n",
    "    with open(input_file, 'rb') as file:\n",
    "        data = file.read()\n",
    "\n",
    "    # Create Triple DES object with the provided key\n",
    "    k = triple_des(key, padmode=PAD_PKCS5)\n",
    "\n",
    "    # Encrypt the data\n",
    "    encrypted_data = k.encrypt(data)\n",
    "\n",
    "    with open(output_file, 'wb') as file:\n",
    "        file.write(encrypted_data)\n",
    "\n",
    "    print(f\"File '{input_file}' encrypted and saved as '{output_file}'.\")\n",
    "\n",
    "def decrypt_file(input_file, output_file, key):\n",
    "    with open(input_file, 'rb') as file:\n",
    "        encrypted_data = file.read()\n",
    "\n",
    "    # Create Triple DES object with the provided key\n",
    "    k = triple_des(key, padmode=PAD_PKCS5)\n",
    "\n",
    "    # Decrypt the data\n",
    "    decrypted_data = k.decrypt(encrypted_data)\n",
    "\n",
    "    with open(output_file, 'wb') as file:\n",
    "        file.write(decrypted_data)\n",
    "\n",
    "    print(f\"File '{input_file}' decrypted and saved as '{output_file}'.\")\n",
    "\n",
    "input_filename = 'Assignment-1.txt' #File to be encrypted (replace with your own file)\n",
    "encrypted_filename = 'encrypted_file_3des.des'\n",
    "decrypted_filename = 'decrypted_file_3des.txt'\n",
    "\n",
    "key = secrets.token_bytes(24)  # 24 bytes for Triple DES\n",
    "N=9 #Number of Encrptions - 1\n",
    "# Encrypt the file\n",
    "encrypt_file(input_filename, encrypted_filename, key)\n",
    "for i in range(N):\n",
    "    encrypt_file(encrypted_filename, encrypted_filename, key)\n",
    "src_path = r\"C:\\Users\\TEJESH\\AppData\\Local\\Packages\\PythonSoftwareFoundation.Python.3.11_qbz5n2kfra8p0\\LocalCache\\local-packages\\Python311\\Scripts\\encrypted_file_3des.des\" #path of your encrypted file location\n",
    "dst_path = r\"C:\\Users\\TEJESH\\Saved Games\\encrypted_file_3des.des\"  \n",
    "shutil.move(src_path,dst_path)\n",
    "shutil.move(dst_path,src_path) #file is moved from one location to another\n",
    "# Decrypt the file\n",
    "decrypt_file(encrypted_filename, decrypted_filename, key)\n",
    "for i in range(N):\n",
    "    decrypt_file(decrypted_filename, decrypted_filename, key)"
   ]
  },
  {
   "cell_type": "code",
   "execution_count": null,
   "id": "dafefad5",
   "metadata": {},
   "outputs": [],
   "source": []
  }
 ],
 "metadata": {
  "kernelspec": {
   "display_name": "Python 3 (ipykernel)",
   "language": "python",
   "name": "python3"
  },
  "language_info": {
   "codemirror_mode": {
    "name": "ipython",
    "version": 3
   },
   "file_extension": ".py",
   "mimetype": "text/x-python",
   "name": "python",
   "nbconvert_exporter": "python",
   "pygments_lexer": "ipython3",
   "version": "3.11.7"
  }
 },
 "nbformat": 4,
 "nbformat_minor": 5
}
